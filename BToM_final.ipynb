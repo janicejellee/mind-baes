{
 "cells": [
  {
   "cell_type": "markdown",
   "metadata": {},
   "source": [
    "# Bayesian Theory Of Mind Problem Set\n",
    "\n",
    "\n",
    "1. [Building The Model](#Distance-Calc)\n",
    "  1. [Initializing The Model](#init)\n",
    "  1. [Distance-Calc](#Distance-Calc)\n",
    "  2. [Getting Points Within The Range](#Within-Range)\n",
    "2. [The Mind Model](#Mind-Model)\n",
    "  1. [Updating Beliefs](#updating-beliefs)\n",
    "  2. [Transition Matrix](#transition-matrix)\n",
    "  3. [Inferring Intent](#inferring-intent)\n",
    "3. [Analysis of Bayesian Theory Of Mind](#analysis)"
   ]
  },
  {
   "cell_type": "markdown",
   "metadata": {},
   "source": [
    "## Building The Model\n",
    "\n",
    "<img src=\"scenario.png\"/>\n",
    "\n",
    "\n",
    "Before we start constructing a way to infer intent, we first need to find a way to represent our \"world\", the space in which we will infer intent. In this case, our world is a 15x15 square grid that our agent (in this case, Mark Watney) can traverse around. Scattered in known locations on the grid are resources A B and C. Mark is trying to retrieve these resources, but we're not sure which one he wants. This is where the intent comes in!\n",
    "\n",
    "To be more technical and specific, we will write some class Mind that keeps track of our model's estimation of Mark's intent, belief about the world, and how likely he's going for a certain resource given his location.\n",
    "\n",
    "Below, we'll initialize this Mind class, then dive a bit deeper into how to use it.\n",
    "\n"
   ]
  },
  {
   "cell_type": "markdown",
   "metadata": {},
   "source": [
    "### Initialize The Mind (5 pts) <a id=\"temporal-word-problem\"/>\n",
    "\n",
    "Our first step is to initialize the Bayesian Theory of Mind. Below is a skeleton implementation of the class we'll use to model our BToM. We've initialized some stuff for you, but you'll have to do the rest. Let's initialize both our beliefs and our intents as a *uniform distribution*. That is, the probability for any belief or any intent starts out the same. \n",
    "\n"
   ]
  },
  {
   "cell_type": "code",
   "execution_count": 106,
   "metadata": {},
   "outputs": [],
   "source": [
    "class Mind:\n",
    "    def __init__(self):\n",
    "        # where resources are\n",
    "        self.world = [(10,0), (0,9), (6,10)] # this array is the coordinates of the location of the resources\n",
    "        self.map_length = 15 # How large the grid is\n",
    "        self.actual_world = 'ABC' # Resources\n",
    "        self.transition_matrix = []\n",
    "    \n",
    "        self.beliefs_worlds = ['ABC', 'ACB', 'BAC', 'BCA', 'CAB', 'CBA'] # Possible Beliefs\n",
    "        self.prev_position = (0,0)\n",
    "        self.position = (0,0)\n",
    "\n",
    "        self.beliefs = [1/6, 1/6, 1/6, 1/6, 1/6, 1/6]\n",
    "        self.intents = {'A': 1/3,'B': 1/3,'C': 1/3}\n",
    "        \n",
    "#         self.beliefs = None #[1/6, 1/6, 1/6, 1/6, 1/6, 1/6]\n",
    "#         self.intents = None "
   ]
  },
  {
   "cell_type": "code",
   "execution_count": 108,
   "metadata": {
    "nbgrader": {
     "grade": true,
     "grade_id": "cell-557370c6a2aeba55",
     "locked": true,
     "points": 0,
     "schema_version": 3,
     "solution": false,
     "task": false
    }
   },
   "outputs": [
    {
     "name": "stdout",
     "output_type": "stream",
     "text": [
      "success\n"
     ]
    }
   ],
   "source": [
    "from nose.tools import assert_equal\n",
    "\n",
    "my_mind = Mind()\n",
    "\n",
    "assert_equal(my_mind.beliefs, [1/6, 1/6, 1/6, 1/6, 1/6, 1/6])\n",
    "assert_equal(my_mind.intents, {'A': 1/3,'B': 1/3,'C': 1/3})\n",
    "\n",
    "print (\"success\")\n"
   ]
  },
  {
   "cell_type": "markdown",
   "metadata": {},
   "source": [
    "### Distance Calculation (5 pts) <a id=\"distance-calc\"/>\n",
    "\n",
    "In order for our model to understand anything, we need to be able to calculate distances between objects on our field. Write a function here to calculate the distance between two points p1 and p2 (both tuples of the form x,y)"
   ]
  },
  {
   "cell_type": "code",
   "execution_count": 109,
   "metadata": {},
   "outputs": [],
   "source": [
    "# helper to get distance\n",
    "def get_distance(p1, p2):\n",
    "    #pass\n",
    "    return ((p1[0]-p2[0])**2 + (p1[1]-p2[1])**2)**.5"
   ]
  },
  {
   "cell_type": "markdown",
   "metadata": {},
   "source": [
    "Let's test that our Distance Calculation Works as expected"
   ]
  },
  {
   "cell_type": "code",
   "execution_count": 110,
   "metadata": {
    "nbgrader": {
     "grade": true,
     "grade_id": "cell-5be901e3420da294",
     "locked": true,
     "points": 0,
     "schema_version": 3,
     "solution": false,
     "task": false
    }
   },
   "outputs": [
    {
     "name": "stdout",
     "output_type": "stream",
     "text": [
      "success\n"
     ]
    }
   ],
   "source": [
    "from nose.tools import assert_equal\n",
    "\n",
    "assert_equal(get_distance((1,0), (2,0)), 1)\n",
    "assert_equal(get_distance((1,1), (2,2)), (2)**0.5)\n",
    "assert_equal(get_distance((1,0), (1,2)), 2)\n",
    "\n",
    "print (\"success\")\n"
   ]
  },
  {
   "cell_type": "markdown",
   "metadata": {},
   "source": [
    "### Getting Points Within A Range (10 pts) <a id=\"within-range\"/>\n",
    "\n",
    "Now, our next step is to be able to find the points that Mark can see when he is at some location. Implement the method below, that given a Mind object and location, returns all the resources that Mark can see. (5 squares away in x or y direction)"
   ]
  },
  {
   "cell_type": "code",
   "execution_count": 111,
   "metadata": {},
   "outputs": [],
   "source": [
    "def within_range(mind, position):\n",
    "    \"\"\" \n",
    "    Given a mind object and location, outputs the (x,y) coordinates of resources near the location\n",
    "    \n",
    "    Input: mind - a mind object which contains location of all the resources on map\n",
    "           position - current position on map\n",
    "    Output: locs - a list of locations (in x,y) available from current position\n",
    "    \"\"\"\n",
    "    # should return resource positions that are visible from current position\n",
    "#     locs = []\n",
    "    \n",
    "#     return locs\n",
    "\n",
    "        # should return resource positions that are visible from current position\n",
    "    locs = []\n",
    "    for i in range(len(mind.world)):\n",
    "        loc = mind.world[i]\n",
    "        # print (\"---\")\n",
    "        # print (position)\n",
    "        # print (loc)\n",
    "        # print (abs(position[0]-loc[0])<=5)\n",
    "        # print (\"---\")\n",
    "        if abs(position[0]-loc[0])<=5 and abs(position[1]-loc[1])<=5:\n",
    "            locs.append(loc)\n",
    "    return locs\n"
   ]
  },
  {
   "cell_type": "code",
   "execution_count": 112,
   "metadata": {
    "nbgrader": {
     "grade": true,
     "grade_id": "cell-069f8f72f4ccd00b",
     "locked": true,
     "points": 0,
     "schema_version": 3,
     "solution": false,
     "task": false
    }
   },
   "outputs": [
    {
     "name": "stdout",
     "output_type": "stream",
     "text": [
      "success\n"
     ]
    }
   ],
   "source": [
    "from nose.tools import assert_equal\n",
    "\n",
    "my_mind = Mind()\n",
    "\n",
    "assert_equal(within_range(my_mind, (8,0)), [(10, 0)])\n",
    "assert_equal(within_range(my_mind, (0,0)), [])\n",
    "assert_equal((6,10) in within_range(my_mind, (3,9)) and (0,9) in within_range(my_mind, (3,9)), True)\n",
    "print (\"success\")\n"
   ]
  },
  {
   "cell_type": "markdown",
   "metadata": {},
   "source": [
    "## The Mind Model\n",
    "\n",
    "Next, we need to actually write some useful functions that will use the mind model to get intent\n"
   ]
  },
  {
   "cell_type": "markdown",
   "metadata": {},
   "source": [
    "### Updating Beliefs (20 pts) <a id=\"updating-beliefs\"/>\n",
    "\n",
    "In this section, we'll work on updating what our BToM thinks that Mark believes.\n",
    "\n",
    "The function below is passed a mind instance, a resource, and a position that we just saw that resource. We should update our probability distribution of what we think Mark believes given this new information based on the approach given in the tutorial!\n",
    "\n",
    "Hint: If the position of the resource we just discovered matches some possible state of the world, Mark is also much more likely to think that that is the true state of the world.\n",
    "\n"
   ]
  },
  {
   "cell_type": "code",
   "execution_count": 113,
   "metadata": {},
   "outputs": [],
   "source": [
    "\n",
    "# updates belief in the possible arrangements of resources in world\n",
    "def update_beliefs(mind, position, resource):\n",
    "    \"\"\" Computes the new beliefs\n",
    "    \n",
    "    Input: mind - the BToM\n",
    "           position - Position of the resource we just discovered\n",
    "           resouce - Which resource is it (A, B, or C)\"\"\"\n",
    "    # YOUR CODE HERE\n",
    "    \n",
    "    i = mind.world.index(position)\n",
    "    increasing_beliefs = []\n",
    "    decreasing_beliefs = []\n",
    "    for j in range(len(mind.beliefs_worlds)):\n",
    "        world = mind.beliefs_worlds[j]\n",
    "        if world[i] == resource:\n",
    "            increasing_beliefs.append(j)\n",
    "        else:\n",
    "            decreasing_beliefs.append(j)\n",
    "\n",
    "    # decrease belief in other worlds by half\n",
    "    sum_decrease_beliefs = 0\n",
    "    for b in decreasing_beliefs:\n",
    "        mind.beliefs[b] /= 2\n",
    "        sum_decrease_beliefs += mind.beliefs[b]\n",
    "\n",
    "    # increase belief in that world by w/e leftover\n",
    "    leftover = 1-sum_decrease_beliefs\n",
    "    increasing_each = leftover / len(increasing_beliefs)\n",
    "    for b in increasing_beliefs:\n",
    "        mind.beliefs[b] += increasing_each\n",
    "#     raise NotImplementedError\n",
    "    "
   ]
  },
  {
   "cell_type": "code",
   "execution_count": 114,
   "metadata": {
    "nbgrader": {
     "grade": true,
     "grade_id": "cell-e638d4dae4812c55",
     "locked": true,
     "points": 0,
     "schema_version": 3,
     "solution": false,
     "task": false
    }
   },
   "outputs": [
    {
     "name": "stdout",
     "output_type": "stream",
     "text": [
      "success\n"
     ]
    }
   ],
   "source": [
    "from nose.tools import assert_equal\n",
    "\n",
    "my_mind = Mind()\n",
    "\n",
    "update_beliefs(my_mind, (10,0), 'A')\n",
    "assert_equal(my_mind.beliefs[0], 0.5)\n",
    "update_beliefs(my_mind, (0,9), 'B')\n",
    "assert_equal(my_mind.beliefs[0], 0.8125)\n",
    "\n",
    "print (\"success\")\n"
   ]
  },
  {
   "cell_type": "markdown",
   "metadata": {},
   "source": [
    "### Updating Transition Matrix (20 pts) <a id=\"transition-matrix\"/>\n",
    "\n",
    "Next, we'll try to conclude the probability Mark is looking for resource X if he's currently at some location Y. We've already written the update method for you, so you can assume when this runs that the current position and previous positions are already set correctly.\n",
    "\n",
    "Hint: You'll probably need to use current position and previous position. What would make it more likely you're going for resource X- going towards it or away it?\n",
    "\n",
    "SOMEONE ELSE HELP ME FILL THIS IN I DON'T WANT TO DO IT WRONG\n"
   ]
  },
  {
   "cell_type": "code",
   "execution_count": 115,
   "metadata": {},
   "outputs": [],
   "source": [
    "# gets the probabilities you are looking for resource x at location y based on current position and prev position\n",
    "def update_transition_matrix(mind):\n",
    "    \n",
    "    '''\n",
    "    Given a mind object, update its transition probability matrix after accounting for current position and previous position.\n",
    "    \n",
    "    Input: mind - a mind object\n",
    "    Output: None, but should mutate the mind object.\n",
    "    \n",
    "    '''\n",
    "    \n",
    "#     raise NotImplementedError\n",
    "    dists = []\n",
    "\n",
    "    for resource_pos in mind.world:\n",
    "        dist1 = get_distance(resource_pos, mind.prev_position)\n",
    "        dist2 = get_distance(resource_pos, mind.position)\n",
    "        diff_dist = dist1-dist2\n",
    "        dists.append(diff_dist)\n",
    "    print (dists)\n",
    "    # -2 2 2  R1 R2 R3\n",
    "    # 2, 6, 6\n",
    "    # 2/14, 6/14, 6/14\n",
    "\n",
    "    max_value = max(dists)\n",
    "    min_value = min(dists)\n",
    "    range_values = max_value - min_value\n",
    "\n",
    "    # so there are no negatives\n",
    "    # print (dists)\n",
    "    for i in range(len(dists)):\n",
    "        dists[i] += range_values\n",
    "    # print (dists)\n",
    "    # print (\"------\")\n",
    "    probabilities = []\n",
    "    for d in dists:\n",
    "        probabilities.append(d/sum(dists))\n",
    "\n",
    "    mind.transition_matrix = probabilities\n",
    "\n"
   ]
  },
  {
   "cell_type": "code",
   "execution_count": 116,
   "metadata": {
    "nbgrader": {
     "grade": true,
     "grade_id": "cell-9e5f8fbeb17ee09c",
     "locked": true,
     "points": 0,
     "schema_version": 3,
     "solution": false,
     "task": false
    }
   },
   "outputs": [
    {
     "name": "stdout",
     "output_type": "stream",
     "text": [
      "[1.0, -0.0553851381374173, 0.48156390219165246]\n",
      "[-0.0553851381374173, 0.9931273898388682, 0.8847097465119482]\n",
      "success\n"
     ]
    }
   ],
   "source": [
    "from nose.tools import assert_equal\n",
    "\n",
    "my_mind = Mind()\n",
    "\n",
    "\n",
    "\n",
    "my_mind.position = (1,0)\n",
    "update_transition_matrix(my_mind)\n",
    "assert_equal(my_mind.transition_matrix, [0.44756872175704115, 0.2177541879876714, 0.3346770902552874])\n",
    "my_mind.prev_position = (1,0)\n",
    "my_mind.position = (1,1)\n",
    "\n",
    "update_transition_matrix(my_mind)\n",
    "assert_equal(my_mind.transition_matrix,[0.19990528833005725, 0.4109589772800559, 0.38913573438988686])\n",
    "\n",
    "\n",
    "print (\"success\")\n"
   ]
  },
  {
   "cell_type": "markdown",
   "metadata": {},
   "source": [
    "### Inferring Intent (20 pts) <a id=\"inferring-intent\"/>\n",
    "\n",
    "Last thing! We need to put it all together and infer the intent of Mark using the functions we've defined!\n",
    "\n",
    "In this function, we're passed in a Mind object. Using it, we should get the total probability (normalized) that Mark's intent is to get a particular resource. Look at the tutorial for more on how this works!\n",
    "\n",
    "More specifically, you should mutate mind.intents and update it with the new intents! We've already implemented the update based on observation method for you, but now you must finish it with update_intents.\n"
   ]
  },
  {
   "cell_type": "code",
   "execution_count": 117,
   "metadata": {},
   "outputs": [],
   "source": [
    "# updates intents\n",
    "def update_intents(mind):\n",
    "    # based on belief, transition, old intents, and rewards\n",
    "    '''\n",
    "    \n",
    "    Input: mind - a mind object\n",
    "    Output: None, but should mutate the mind object.\n",
    "    '''\n",
    "    \n",
    "    \n",
    "    scores = {'A': 0, 'B': 0, 'C': 0}\n",
    "    for i in range(len(mind.beliefs_worlds)):\n",
    "        world = mind.beliefs_worlds[i]\n",
    "        belief_prob = mind.beliefs[i]\n",
    "        for i in range(3):\n",
    "            resource = world[i]\n",
    "            trans_prob = mind.transition_matrix[i]\n",
    "            score = belief_prob * trans_prob * 100 * mind.intents[resource]\n",
    "            scores[resource] += score\n",
    "    # print (scores)\n",
    "\n",
    "    sum_scores = scores['A'] + scores['B'] + scores['C']\n",
    "\n",
    "    new_intents = {}\n",
    "    for s in scores:\n",
    "        new_intents[s] = scores[s] / sum_scores\n",
    "\n",
    "    mind.intents = new_intents"
   ]
  },
  {
   "cell_type": "code",
   "execution_count": 118,
   "metadata": {},
   "outputs": [],
   "source": [
    "# the entire model pretty much runs here. this calls the other functions\n",
    "def receive_observation(mind, x, y):\n",
    "    mind.position = (x,y)\n",
    "    near_locations = within_range(mind, (x,y))\n",
    "    for loc in near_locations:\n",
    "        i = mind.world.index(loc)\n",
    "        resource = mind.actual_world[i]\n",
    "        point = (x,y)\n",
    "        update_beliefs(mind, loc, resource)\n",
    "\n",
    "    # update transition\n",
    "    update_transition_matrix(mind)\n",
    "\n",
    "    # update intents\n",
    "    update_intents(mind)\n",
    "\n",
    "    mind.prev_position = (x,y)"
   ]
  },
  {
   "cell_type": "code",
   "execution_count": 120,
   "metadata": {
    "nbgrader": {
     "grade": true,
     "grade_id": "cell-1358f808a1e3f350",
     "locked": true,
     "points": 0,
     "schema_version": 3,
     "solution": false,
     "task": false
    }
   },
   "outputs": [
    {
     "name": "stdout",
     "output_type": "stream",
     "text": [
      "[1.0, -0.0553851381374173, 0.48156390219165246]\n",
      "[1.0, -0.16415931915546977, 0.41001027322994155]\n",
      "[1.0, -0.26728852321225105, 0.3300231053584568]\n",
      "[1.0, -0.3620248212909658, 0.2422674817249817]\n",
      "[1.0, -0.44677233919089687, 0.14816340606467904]\n",
      "[1.0, -0.5210236854049679, 0.049875621120889946]\n",
      "[-1.0, 0.5210236854049679, -0.049875621120889946]\n",
      "[-1.0, 0.44677233919089687, -0.14816340606467904]\n",
      "[-1.0, 0.3620248212909658, -0.2422674817249817]\n",
      "successs\n"
     ]
    }
   ],
   "source": [
    "from nose.tools import assert_equal\n",
    "\n",
    "my_mind = Mind()\n",
    "\n",
    "receive_observation(my_mind,1, 0)\n",
    "receive_observation(my_mind,2, 0)\n",
    "receive_observation(my_mind,3, 0)\n",
    "receive_observation(my_mind,4, 0)\n",
    "receive_observation(my_mind,5, 0)\n",
    "receive_observation(my_mind,6, 0)\n",
    "receive_observation(my_mind,5, 0)\n",
    "receive_observation(my_mind,4, 0)\n",
    "receive_observation(my_mind,3, 0)\n",
    "\n",
    "#{'A': 0.035648663780556554, 'B': 0.48217566810972184, 'C': 0.48217566810972157}\n",
    "\n",
    "assert_equal(abs(my_mind.intents['A'] - 0.035648663780556554) < 0.001, True)\n",
    "\n",
    "assert_equal(abs(my_mind.intents['B'] - 0.48217566810972184) < 0.001, True)\n",
    "\n",
    "assert_equal(abs(my_mind.intents['C'] - 0.48217566810972157) < 0.001, True)\n",
    "\n",
    "print (\"successs\")"
   ]
  },
  {
   "cell_type": "markdown",
   "metadata": {},
   "source": [
    "## Analysis of Bayesian Theory of Mind (10 pts) <a id=\"distance-calc\"/>\n",
    "\n",
    "In the box below, highlight some of the advantages and disadvantages of Bayesian Theory of Mind. This is open ended! What makes it different from other approaches, and why does that make it better? Are there any drawbacks you can think of?"
   ]
  },
  {
   "cell_type": "markdown",
   "metadata": {
    "nbgrader": {
     "grade": true,
     "grade_id": "cell-e982caeeb74c73ac",
     "locked": false,
     "points": 0,
     "schema_version": 3,
     "solution": true,
     "task": false
    }
   },
   "source": []
  },
  {
   "cell_type": "code",
   "execution_count": null,
   "metadata": {},
   "outputs": [],
   "source": []
  }
 ],
 "metadata": {
  "celltoolbar": "Create Assignment",
  "kernelspec": {
   "display_name": "Python 3",
   "language": "python",
   "name": "python3"
  },
  "language_info": {
   "codemirror_mode": {
    "name": "ipython",
    "version": 3
   },
   "file_extension": ".py",
   "mimetype": "text/x-python",
   "name": "python",
   "nbconvert_exporter": "python",
   "pygments_lexer": "ipython3",
   "version": "3.6.7"
  }
 },
 "nbformat": 4,
 "nbformat_minor": 2
}
