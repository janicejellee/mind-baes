{
 "cells": [
  {
   "cell_type": "markdown",
   "metadata": {},
   "source": [
    "# Bayesian Theory Of Mind Problem Set\n",
    "\n",
    "\n",
    "1. [Building The Model](#Distance-Calc)\n",
    "  1. [Initializing The Model](#init)\n",
    "  1. [Distance-Calc](#Distance-Calc)\n",
    "  2. [Getting Points Within The Range](#Within-Range)\n",
    "2. [The Mind Model](#Mind-Model)\n",
    "  1. [Updating Beliefs](#updating-beliefs)\n",
    "  2. [Transition Matrix](#transition-matrix)\n",
    "  3. [Inferring Intent](#inferring-intent)\n",
    "3. [Analysis of Bayesian Theory Of Mind](#analysis)"
   ]
  },
  {
   "cell_type": "markdown",
   "metadata": {},
   "source": [
    "## Building The Model\n",
    "\n",
    "<img src=\"scenario.png\"/>\n",
    "\n",
    "\n",
    "Before we start constructing a way to infer intent, we first need to find a way to represent our \"world\", the space in which we will infer intent. In this case, our world is a 15x15 square grid that our agent (in this case, Mark Watney) can traverse around. Scattered in known locations on the grid are resources A B and C. Mark is trying to retrieve these resources, but we're not sure which one he wants. This is where the intent comes in!\n",
    "\n",
    "To be more technical and specific, we will write some class Mind that keeps track of our model's estimation of Mark's intent, belief about the world, and how likely he's going for a certain resource given his location.\n",
    "\n",
    "Below, we'll initialize this Mind class, then dive a bit deeper into how to use it.\n",
    "\n"
   ]
  },
  {
   "cell_type": "markdown",
   "metadata": {},
   "source": [
    "### Initialize The Mind (5 pts) <a id=\"temporal-word-problem\"/>\n",
    "\n",
    "Our first step is to initialize the Bayesian Theory of Mind. Below is a skeleton implementation of the class we'll use to model our BToM. We've initialized some stuff for you, but you'll have to do the rest. Let's initialize both our beliefs and our intents as a *uniform distribution*. That is, the probability for any belief or any intent starts out the same. \n",
    "\n"
   ]
  },
  {
   "cell_type": "code",
   "execution_count": 10,
   "metadata": {},
   "outputs": [],
   "source": [
    "class Mind:\n",
    "    def __init__(self):\n",
    "        # where resources are\n",
    "        self.world = [(10,0), (0,9), (6,10)] # this array is the coordinates of the location of the resources\n",
    "        self.map_length = 15 # How large the grid is\n",
    "        self.actual_world = 'ABC' # Resources\n",
    "        self.transition_matrix = []\n",
    "    \n",
    "        self.beliefs_worlds = ['ABC', 'ACB', 'BAC', 'BCA', 'CAB', 'CBA'] # Possible Beliefs\n",
    "        self.prev_position = (0,0)\n",
    "        self.position = (0,0)\n",
    "\n",
    "        self.beliefs = [1/6, 1/6, 1/6, 1/6, 1/6, 1/6]\n",
    "        self.intents = {'A': 1/3,'B': 1/3,'C': 1/3}\n",
    "        "
   ]
  },
  {
   "cell_type": "code",
   "execution_count": 11,
   "metadata": {
    "nbgrader": {
     "grade": true,
     "grade_id": "cell-557370c6a2aeba55",
     "locked": true,
     "points": 0,
     "schema_version": 3,
     "solution": false,
     "task": false
    }
   },
   "outputs": [
    {
     "ename": "ModuleNotFoundError",
     "evalue": "No module named 'nose'",
     "output_type": "error",
     "traceback": [
      "\u001b[0;31m---------------------------------------------------------------------------\u001b[0m",
      "\u001b[0;31mModuleNotFoundError\u001b[0m                       Traceback (most recent call last)",
      "\u001b[0;32m<ipython-input-11-3ca36bcd8074>\u001b[0m in \u001b[0;36m<module>\u001b[0;34m\u001b[0m\n\u001b[0;32m----> 1\u001b[0;31m \u001b[0;32mfrom\u001b[0m \u001b[0mnose\u001b[0m\u001b[0;34m.\u001b[0m\u001b[0mtools\u001b[0m \u001b[0;32mimport\u001b[0m \u001b[0massert_equal\u001b[0m\u001b[0;34m\u001b[0m\u001b[0m\n\u001b[0m\u001b[1;32m      2\u001b[0m \u001b[0;34m\u001b[0m\u001b[0m\n\u001b[1;32m      3\u001b[0m \u001b[0mmy_mind\u001b[0m \u001b[0;34m=\u001b[0m \u001b[0mMind\u001b[0m\u001b[0;34m(\u001b[0m\u001b[0;34m)\u001b[0m\u001b[0;34m\u001b[0m\u001b[0m\n\u001b[1;32m      4\u001b[0m \u001b[0;34m\u001b[0m\u001b[0m\n\u001b[1;32m      5\u001b[0m \u001b[0massert_equal\u001b[0m\u001b[0;34m(\u001b[0m\u001b[0mmy_mind\u001b[0m\u001b[0;34m.\u001b[0m\u001b[0mbeliefs\u001b[0m\u001b[0;34m,\u001b[0m \u001b[0;34m[\u001b[0m\u001b[0;36m1\u001b[0m\u001b[0;34m/\u001b[0m\u001b[0;36m6\u001b[0m\u001b[0;34m,\u001b[0m \u001b[0;36m1\u001b[0m\u001b[0;34m/\u001b[0m\u001b[0;36m6\u001b[0m\u001b[0;34m,\u001b[0m \u001b[0;36m1\u001b[0m\u001b[0;34m/\u001b[0m\u001b[0;36m6\u001b[0m\u001b[0;34m,\u001b[0m \u001b[0;36m1\u001b[0m\u001b[0;34m/\u001b[0m\u001b[0;36m6\u001b[0m\u001b[0;34m,\u001b[0m \u001b[0;36m1\u001b[0m\u001b[0;34m/\u001b[0m\u001b[0;36m6\u001b[0m\u001b[0;34m,\u001b[0m \u001b[0;36m1\u001b[0m\u001b[0;34m/\u001b[0m\u001b[0;36m6\u001b[0m\u001b[0;34m]\u001b[0m\u001b[0;34m)\u001b[0m\u001b[0;34m\u001b[0m\u001b[0m\n",
      "\u001b[0;31mModuleNotFoundError\u001b[0m: No module named 'nose'"
     ]
    }
   ],
   "source": [
    "from nose.tools import assert_equal\n",
    "\n",
    "my_mind = Mind()\n",
    "\n",
    "assert_equal(my_mind.beliefs, [1/6, 1/6, 1/6, 1/6, 1/6, 1/6])\n",
    "assert_equal(my_mind.intents, {'A': 1/3,'B': 1/3,'C': 1/3})\n",
    "\n",
    "print (\"success\")\n"
   ]
  },
  {
   "cell_type": "markdown",
   "metadata": {},
   "source": [
    "### Distance Calculation (5 pts) <a id=\"distance-calc\"/>\n",
    "\n",
    "In order for our model to understand anything, we need to be able to calculate distances between objects on our field. Write a function here to calculate the distance between two points p1 and p2 (both tuples of the form x,y)"
   ]
  },
  {
   "cell_type": "code",
   "execution_count": 6,
   "metadata": {},
   "outputs": [],
   "source": [
    "# helper to get distance\n",
    "def get_distance(p1, p2):\n",
    "    #pass\n",
    "    return ((p1[0]-p2[0])**2 + (p1[1]-p2[1])**2)**.5"
   ]
  },
  {
   "cell_type": "markdown",
   "metadata": {},
   "source": [
    "Let's test that our Distance Calculation Works as expected"
   ]
  },
  {
   "cell_type": "code",
   "execution_count": 110,
   "metadata": {
    "nbgrader": {
     "grade": true,
     "grade_id": "cell-5be901e3420da294",
     "locked": true,
     "points": 0,
     "schema_version": 3,
     "solution": false,
     "task": false
    }
   },
   "outputs": [
    {
     "name": "stdout",
     "output_type": "stream",
     "text": [
      "success\n"
     ]
    }
   ],
   "source": [
    "from nose.tools import assert_equal\n",
    "\n",
    "assert_equal(get_distance((1,0), (2,0)), 1)\n",
    "assert_equal(get_distance((1,1), (2,2)), (2)**0.5)\n",
    "assert_equal(get_distance((1,0), (1,2)), 2)\n",
    "\n",
    "print (\"success\")\n"
   ]
  },
  {
   "cell_type": "markdown",
   "metadata": {},
   "source": [
    "### Getting Points Within A Range (10 pts) <a id=\"within-range\"/>\n",
    "\n",
    "Now, our next step is to be able to find the points that Mark can see when he is at some location. Implement the method below, that given a Mind object and location, returns all the resources that Mark can see. (5 squares away in x or y direction)"
   ]
  },
  {
   "cell_type": "code",
   "execution_count": 8,
   "metadata": {},
   "outputs": [],
   "source": [
    "def within_range(mind, position):\n",
    "    \"\"\" \n",
    "    Given a mind object and location, outputs the (x,y) coordinates of resources near the location\n",
    "    \n",
    "    Input: mind - a mind object which contains location of all the resources on map\n",
    "           position - current position on map\n",
    "    Output: locs - a list of locations (in x,y) available from current position\n",
    "    \"\"\"\n",
    "    # should return resource positions that are visible from current position\n",
    "#     locs = []\n",
    "    \n",
    "#     return locs\n",
    "\n",
    "    locs = []\n",
    "    for i in range(len(mind.world)):\n",
    "        loc = mind.world[i]\n",
    "        if abs(position[0]-loc[0])<=5 and abs(position[1]-loc[1])<=5:\n",
    "            locs.append(loc)\n",
    "    return locs\n"
   ]
  },
  {
   "cell_type": "code",
   "execution_count": 9,
   "metadata": {
    "nbgrader": {
     "grade": true,
     "grade_id": "cell-069f8f72f4ccd00b",
     "locked": true,
     "points": 0,
     "schema_version": 3,
     "solution": false,
     "task": false
    }
   },
   "outputs": [
    {
     "ename": "ModuleNotFoundError",
     "evalue": "No module named 'nose'",
     "output_type": "error",
     "traceback": [
      "\u001b[0;31m---------------------------------------------------------------------------\u001b[0m",
      "\u001b[0;31mModuleNotFoundError\u001b[0m                       Traceback (most recent call last)",
      "\u001b[0;32m<ipython-input-9-8b1b74116fe9>\u001b[0m in \u001b[0;36m<module>\u001b[0;34m\u001b[0m\n\u001b[0;32m----> 1\u001b[0;31m \u001b[0;32mfrom\u001b[0m \u001b[0mnose\u001b[0m\u001b[0;34m.\u001b[0m\u001b[0mtools\u001b[0m \u001b[0;32mimport\u001b[0m \u001b[0massert_equal\u001b[0m\u001b[0;34m\u001b[0m\u001b[0m\n\u001b[0m\u001b[1;32m      2\u001b[0m \u001b[0;34m\u001b[0m\u001b[0m\n\u001b[1;32m      3\u001b[0m \u001b[0mmy_mind\u001b[0m \u001b[0;34m=\u001b[0m \u001b[0mMind\u001b[0m\u001b[0;34m(\u001b[0m\u001b[0;34m)\u001b[0m\u001b[0;34m\u001b[0m\u001b[0m\n\u001b[1;32m      4\u001b[0m \u001b[0;34m\u001b[0m\u001b[0m\n\u001b[1;32m      5\u001b[0m \u001b[0massert_equal\u001b[0m\u001b[0;34m(\u001b[0m\u001b[0mwithin_range\u001b[0m\u001b[0;34m(\u001b[0m\u001b[0mmy_mind\u001b[0m\u001b[0;34m,\u001b[0m \u001b[0;34m(\u001b[0m\u001b[0;36m8\u001b[0m\u001b[0;34m,\u001b[0m\u001b[0;36m0\u001b[0m\u001b[0;34m)\u001b[0m\u001b[0;34m)\u001b[0m\u001b[0;34m,\u001b[0m \u001b[0;34m[\u001b[0m\u001b[0;34m(\u001b[0m\u001b[0;36m10\u001b[0m\u001b[0;34m,\u001b[0m \u001b[0;36m0\u001b[0m\u001b[0;34m)\u001b[0m\u001b[0;34m]\u001b[0m\u001b[0;34m)\u001b[0m\u001b[0;34m\u001b[0m\u001b[0m\n",
      "\u001b[0;31mModuleNotFoundError\u001b[0m: No module named 'nose'"
     ]
    }
   ],
   "source": [
    "from nose.tools import assert_equal\n",
    "\n",
    "my_mind = Mind()\n",
    "\n",
    "assert_equal(within_range(my_mind, (8,0)), [(10, 0)])\n",
    "assert_equal(within_range(my_mind, (0,0)), [])\n",
    "assert_equal((6,10) in within_range(my_mind, (3,9)) and (0,9) in within_range(my_mind, (3,9)), True)\n",
    "print (\"success\")\n"
   ]
  },
  {
   "cell_type": "markdown",
   "metadata": {},
   "source": [
    "## The Mind Model\n",
    "\n",
    "Next, we need to actually write some useful functions that will use the mind model to get intent\n"
   ]
  },
  {
   "cell_type": "code",
   "execution_count": null,
   "metadata": {},
   "outputs": [],
   "source": []
  },
  {
   "cell_type": "markdown",
   "metadata": {},
   "source": [
    "### Updating Beliefs (20 pts) <a id=\"updating-beliefs\"/>\n",
    "\n",
    "In this section, we'll work on updating what our BToM thinks that Mark believes.\n",
    "\n",
    "The function below is passed a mind instance and the current state. We should update our probability distribution of what we think Mark believes given this new information.\n",
    "\n",
    "Here are the steps you should follow:\n",
    "- Obtain all locations of resources that are within range of our state (use a function you made!)\n",
    "For each of the locations you will then:\n",
    "- Get the resource that is at that location in the actual world\n",
    "- Go through all the 6 possible worlds, keep track of which are consistent and inconsistent with the resource being in that location.\n",
    "- For each of the consistent worlds, multiply the previous belief in that world by 0.9 over the number of consistent worlds.\n",
    "- Similarly for the inconsistent worlds, multiply the previous belief in that world by 0.1 over the number of inconsistent worlds.\n",
    "- Normalize the new beliefs\n",
    "\n",
    "Hint: If the position of the resource we just discovered matches some possible state of the world, Mark is also much more likely to think that that is the true state of the world.\n",
    "\n"
   ]
  },
  {
   "cell_type": "code",
   "execution_count": 12,
   "metadata": {},
   "outputs": [],
   "source": [
    "def beliefs_update(self, state):\n",
    "    \"Update beliefs\"\n",
    "    near_locations = self.within_range(state)\n",
    "\n",
    "    # figure out which locations you can see\n",
    "    # update beliefs for the ones close to you\n",
    "\n",
    "    #redistribute beliefs\n",
    "\n",
    "    for loc in near_locations:\n",
    "        i = self.world_loc.index(loc)\n",
    "        resource = self.world_state[i]\n",
    "        print (\"observed resource %s\" % resource)\n",
    "        consistently_observed_worlds = []\n",
    "        inconsistently_observed_worlds = []\n",
    "        for j in range(len(self.beliefs_worlds)):\n",
    "            world = self.beliefs_worlds[j]\n",
    "            if world[i] == resource:\n",
    "                consistently_observed_worlds.append(j)\n",
    "            else:\n",
    "                inconsistently_observed_worlds.append(j)\n",
    "        factor = len(consistently_observed_worlds)\n",
    "        sum_of_consistently_observed = sum([self.beliefs[i] for i in consistently_observed_worlds])\n",
    "        sum_of_inconsistently_observed = sum([self.beliefs[i] for i in inconsistently_observed_worlds])\n",
    "        for i in range(len(self.beliefs)):\n",
    "            if i in consistently_observed_worlds:\n",
    "                self.beliefs[i] = 0.9 * self.beliefs[i]/sum_of_consistently_observed\n",
    "            else:\n",
    "                self.beliefs[i] = 0.1 * self.beliefs[i]/sum_of_inconsistently_observed\n",
    "\n",
    "        self.beliefs = [float(i)/sum(self.beliefs) for i in self.beliefs]\n",
    "        print(\"new beliefs %s \" % self.beliefs)\n"
   ]
  },
  {
   "cell_type": "code",
   "execution_count": 14,
   "metadata": {
    "nbgrader": {
     "grade": true,
     "grade_id": "cell-e638d4dae4812c55",
     "locked": true,
     "points": 0,
     "schema_version": 3,
     "solution": false,
     "task": false
    }
   },
   "outputs": [
    {
     "ename": "ModuleNotFoundError",
     "evalue": "No module named 'nose'",
     "output_type": "error",
     "traceback": [
      "\u001b[0;31m---------------------------------------------------------------------------\u001b[0m",
      "\u001b[0;31mModuleNotFoundError\u001b[0m                       Traceback (most recent call last)",
      "\u001b[0;32m<ipython-input-14-ca6966838c2a>\u001b[0m in \u001b[0;36m<module>\u001b[0;34m\u001b[0m\n\u001b[0;32m----> 1\u001b[0;31m \u001b[0;32mfrom\u001b[0m \u001b[0mnose\u001b[0m\u001b[0;34m.\u001b[0m\u001b[0mtools\u001b[0m \u001b[0;32mimport\u001b[0m \u001b[0massert_equal\u001b[0m\u001b[0;34m\u001b[0m\u001b[0m\n\u001b[0m\u001b[1;32m      2\u001b[0m \u001b[0;34m\u001b[0m\u001b[0m\n\u001b[1;32m      3\u001b[0m \u001b[0;31m# TODO update these tests!!!!\u001b[0m\u001b[0;34m\u001b[0m\u001b[0;34m\u001b[0m\u001b[0m\n\u001b[1;32m      4\u001b[0m \u001b[0;34m\u001b[0m\u001b[0m\n\u001b[1;32m      5\u001b[0m \u001b[0mmy_mind\u001b[0m \u001b[0;34m=\u001b[0m \u001b[0mMind\u001b[0m\u001b[0;34m(\u001b[0m\u001b[0;34m)\u001b[0m\u001b[0;34m\u001b[0m\u001b[0m\n",
      "\u001b[0;31mModuleNotFoundError\u001b[0m: No module named 'nose'"
     ]
    }
   ],
   "source": [
    "from nose.tools import assert_equal\n",
    "\n",
    "# TODO update these tests!!!!\n",
    "\n",
    "my_mind = Mind()\n",
    "\n",
    "update_beliefs(my_mind, (10,0), 'A')\n",
    "assert_equal(my_mind.beliefs[0], 0.5)\n",
    "update_beliefs(my_mind, (0,9), 'B')\n",
    "assert_equal(my_mind.beliefs[0], 0.8125)\n",
    "\n",
    "print (\"success\")\n"
   ]
  },
  {
   "cell_type": "markdown",
   "metadata": {},
   "source": [
    "### Defining Transition and Actions (20 pts) <a id=\"transition-matrix\"/>\n",
    "\n",
    "In addition to wanting to figure out Mark's intent, our model also models Mark's mind in the context of a planning problem as well. We'd like to know what action Mark wants to take next. Although this also includes the value iteration algorithm as well as getting the best policy (the best actions he should take), we'll be defining just some of the functions necessary to get the best policy.\n",
    "\n",
    "We'll be implementing a function, transition, that giving a state and an action, returns a list of (result state, probability) pairs. \n",
    "\n",
    "Hint: We included two helper function, get_next_state, that gives the next state that would be reached by taking some action, and actions, which gets the next set of possible functions. Use them to help implement transition."
   ]
  },
  {
   "cell_type": "code",
   "execution_count": 15,
   "metadata": {},
   "outputs": [],
   "source": [
    "def get_next_state(self, state, action):\n",
    "    \"\"\"\n",
    "    Helper function. Given state and action, gives next state that would\n",
    "    be reached. Returns None if off map.\n",
    "    \"\"\"\n",
    "    next_state = None\n",
    "    x = state[0]\n",
    "    y = state[1]\n",
    "\n",
    "    if action == 'right':\n",
    "        if 0<=(x+1)<self.map_length and 0<=y<self.map_length:\n",
    "            next_state = (x+1,y)\n",
    "    elif action == 'left':\n",
    "        if 0<=(x-1)<self.map_length and 0<=y<self.map_length:\n",
    "            next_state = (x-1,y)\n",
    "    elif action == 'up':\n",
    "        if 0<=x<self.map_length and 0<=(y-1)<self.map_length:\n",
    "            next_state = (x,y-1)\n",
    "    elif action == 'down':\n",
    "        if 0<=x<self.map_length and 0<=(y+1)<self.map_length:\n",
    "            next_state = (x,y+1)\n",
    "\n",
    "    return next_state\n",
    "\n",
    "\n",
    "def actions(self, state):\n",
    "    \"Set of actions that can be performed in this state.\"\n",
    "    actions = []\n",
    "    x = state[0]\n",
    "    y = state[1]\n",
    "\n",
    "    if 0<=(x+1)<self.map_length and 0<=y<self.map_length:\n",
    "        actions.append('right')\n",
    "    if 0<=(x-1)<self.map_length and 0<=y<self.map_length:\n",
    "        actions.append('left')\n",
    "    if 0<=x<self.map_length and 0<=(y-1)<self.map_length:\n",
    "        actions.append('up')\n",
    "    if 0<=x<self.map_length and 0<=(y+1)<self.map_length:\n",
    "        actions.append('down')\n",
    "\n",
    "    return actions\n",
    "\n",
    "    \n",
    "def transition(self, state, action):\n",
    "    \"\"\"\n",
    "    Transition model.  From a state and an action, return a list\n",
    "    of (result-state, probability) pairs.\n",
    "    \"\"\"\n",
    "    actions = self.actions(state)\n",
    "    pairs = []\n",
    "\n",
    "    action_valid = False\n",
    "    next_state = self.get_next_state(state, action)\n",
    "\n",
    "    x = state[0]\n",
    "    y = state[1]\n",
    "\n",
    "    if next_state:\n",
    "        pairs.append((next_state, 0.9))\n",
    "        remaining = len(actions) - 1\n",
    "        prob = 0.1 / remaining\n",
    "        for a in actions:\n",
    "            if a != action:\n",
    "                pairs.append((self.get_next_state(state, a), prob))\n",
    "    else:\n",
    "        prob = 1.0 / len(actions)\n",
    "        for a in actions:\n",
    "            pairs.append((self.get_next_state(state, a), prob))\n",
    "\n",
    "    return pairs\n"
   ]
  },
  {
   "cell_type": "code",
   "execution_count": 116,
   "metadata": {
    "nbgrader": {
     "grade": true,
     "grade_id": "cell-9e5f8fbeb17ee09c",
     "locked": true,
     "points": 0,
     "schema_version": 3,
     "solution": false,
     "task": false
    }
   },
   "outputs": [
    {
     "name": "stdout",
     "output_type": "stream",
     "text": [
      "[1.0, -0.0553851381374173, 0.48156390219165246]\n",
      "[-0.0553851381374173, 0.9931273898388682, 0.8847097465119482]\n",
      "success\n"
     ]
    }
   ],
   "source": [
    "from nose.tools import assert_equal\n",
    "\n",
    "my_mind = Mind()\n",
    "\n",
    "# TODO also need to update these tests\n",
    "my_mind.position = (1,0)\n",
    "update_transition_matrix(my_mind)\n",
    "assert_equal(my_mind.transition_matrix, [0.44756872175704115, 0.2177541879876714, 0.3346770902552874])\n",
    "my_mind.prev_position = (1,0)\n",
    "my_mind.position = (1,1)\n",
    "\n",
    "update_transition_matrix(my_mind)\n",
    "assert_equal(my_mind.transition_matrix,[0.19990528833005725, 0.4109589772800559, 0.38913573438988686])\n",
    "\n",
    "\n",
    "print (\"success\")\n"
   ]
  },
  {
   "cell_type": "markdown",
   "metadata": {},
   "source": [
    "### Inferring Intent (20 pts) <a id=\"inferring-intent\"/>\n",
    "\n",
    "Last thing! We need to put it together and infer the intent of Mark using the functions we've defined!\n",
    "\n",
    "In this function, we're passed in a Mind object. Using it, we should get the total probability (normalized) that Mark's intent is to get a particular resource.\n",
    "\n",
    "Steps:\n",
    "- Based on the action Mark takes next, get the next state\n",
    "- For each of the resource positions in the actual world orientation, get the difference in distance Mark is from each of the resource positions based on the state before and after his action. Note: some of these may be negative.\n",
    "- For each of the resources, taking into account the belief distribution in all the different worlds, we want to calculate a score, based on the distance it is from Mark in that world and the belief in that world (to simplify, you can simply multiply the distance by the belief).\n",
    "- Update the old intents by adding this score, discounted by a factor of 0.3. Ensure that the values do not exceed 1 or go below 0.\n",
    "- Finally, normalize the new intents.\n",
    "\n",
    "More specifically, you should mutate mind.intents and update it with the new intents! We've already implemented the step for receiving an observation, and updating other propertiess, but now you must finish it with update_intents.\n"
   ]
  },
  {
   "cell_type": "code",
   "execution_count": 117,
   "metadata": {},
   "outputs": [],
   "source": [
    "def intents_update(self, action):\n",
    "    \"Update intents.\"\n",
    "    \"\"\"\n",
    "        belief: [Pr(ABC), Pr(ACB), Pr(BAC), Pr(BCA), Pr(CAB), Pr(CBA)]\n",
    "        state: current location on the grid\n",
    "        action: action he takes\n",
    "    \"\"\"\n",
    "\n",
    "    next_state = self.get_next_state(self.state, action)\n",
    "\n",
    "    # difference in distance that this action takes us, or how much closer or farther\n",
    "    # we get from the 3 resource locations\n",
    "    dists = []\n",
    "\n",
    "    for resource_pos in self.world_loc:\n",
    "        dist1 = self.get_distance(resource_pos, self.state)\n",
    "        dist2 = self.get_distance(resource_pos, next_state)\n",
    "        diff_dist = dist1-dist2\n",
    "        dists.append(diff_dist)\n",
    "\n",
    "    print (dists)\n",
    "\n",
    "    new_intents_scores = {'A': 0, 'B': 0, 'C': 0}\n",
    "\n",
    "    for i in range(len(self.beliefs_worlds)):\n",
    "        world = self.beliefs_worlds[i]\n",
    "        belief = self.beliefs[i]\n",
    "        for i in range(3):\n",
    "            r = world[i]\n",
    "            new_intents_scores[r] += dists[i] * belief\n",
    "\n",
    "    new_intents = {}\n",
    "    factor = 0.3\n",
    "    sum_new_intents = 0\n",
    "    for r in self.intents:\n",
    "        new_intents[r] = max(self.intents[r] + factor * new_intents_scores[r], 0)\n",
    "        sum_new_intents += new_intents[r]\n",
    "\n",
    "    self.intents = {'A': new_intents['A']/sum_new_intents, 'B': new_intents['B']/sum_new_intents, 'C': new_intents['C']/sum_new_intents}\n",
    "\n"
   ]
  },
  {
   "cell_type": "code",
   "execution_count": 118,
   "metadata": {},
   "outputs": [],
   "source": [
    "def receive_observation(self, action):\n",
    "    \"Receive observation, update model, and get updated intents.\"\n",
    "    print (\"------\")\n",
    "    self.state = self.get_next_state(self.state, action)\n",
    "    self.beliefs_update(self.state)\n",
    "    U = self.value_iteration()\n",
    "    # print (U)\n",
    "    policy = self.best_policy(U)\n",
    "    print (self.state)\n",
    "    self.intents_update(action)\n",
    "    # print ('beliefs: ', self.beliefs)\n",
    "    print ('intents: ', self.intents)"
   ]
  },
  {
   "cell_type": "code",
   "execution_count": 18,
   "metadata": {
    "nbgrader": {
     "grade": true,
     "grade_id": "cell-1358f808a1e3f350",
     "locked": true,
     "points": 0,
     "schema_version": 3,
     "solution": false,
     "task": false
    }
   },
   "outputs": [
    {
     "ename": "ModuleNotFoundError",
     "evalue": "No module named 'nose'",
     "output_type": "error",
     "traceback": [
      "\u001b[0;31m---------------------------------------------------------------------------\u001b[0m",
      "\u001b[0;31mModuleNotFoundError\u001b[0m                       Traceback (most recent call last)",
      "\u001b[0;32m<ipython-input-18-f67c9f0cb060>\u001b[0m in \u001b[0;36m<module>\u001b[0;34m\u001b[0m\n\u001b[0;32m----> 1\u001b[0;31m \u001b[0;32mfrom\u001b[0m \u001b[0mnose\u001b[0m\u001b[0;34m.\u001b[0m\u001b[0mtools\u001b[0m \u001b[0;32mimport\u001b[0m \u001b[0massert_equal\u001b[0m\u001b[0;34m\u001b[0m\u001b[0m\n\u001b[0m\u001b[1;32m      2\u001b[0m \u001b[0;34m\u001b[0m\u001b[0m\n\u001b[1;32m      3\u001b[0m \u001b[0mmy_mind\u001b[0m \u001b[0;34m=\u001b[0m \u001b[0mMind\u001b[0m\u001b[0;34m(\u001b[0m\u001b[0;34m)\u001b[0m\u001b[0;34m\u001b[0m\u001b[0m\n\u001b[1;32m      4\u001b[0m \u001b[0;34m\u001b[0m\u001b[0m\n\u001b[1;32m      5\u001b[0m \u001b[0;31m# TODO update this too!!!\u001b[0m\u001b[0;34m\u001b[0m\u001b[0;34m\u001b[0m\u001b[0m\n",
      "\u001b[0;31mModuleNotFoundError\u001b[0m: No module named 'nose'"
     ]
    }
   ],
   "source": [
    "from nose.tools import assert_equal\n",
    "\n",
    "my_mind = Mind()\n",
    "\n",
    "# TODO update this too!!!\n",
    "\n",
    "# receive_observation(my_mind,1, 0)\n",
    "# receive_observation(my_mind,2, 0)\n",
    "# receive_observation(my_mind,3, 0)\n",
    "# receive_observation(my_mind,4, 0)\n",
    "# receive_observation(my_mind,5, 0)\n",
    "# receive_observation(my_mind,6, 0)\n",
    "# receive_observation(my_mind,5, 0)\n",
    "# receive_observation(my_mind,4, 0)\n",
    "# receive_observation(my_mind,3, 0)\n",
    "\n",
    "# #{'A': 0.035648663780556554, 'B': 0.48217566810972184, 'C': 0.48217566810972157}\n",
    "\n",
    "# assert_equal(abs(my_mind.intents['A'] - 0.035648663780556554) < 0.001, True)\n",
    "\n",
    "# assert_equal(abs(my_mind.intents['B'] - 0.48217566810972184) < 0.001, True)\n",
    "\n",
    "# assert_equal(abs(my_mind.intents['C'] - 0.48217566810972157) < 0.001, True)\n",
    "\n",
    "# print (\"successs\")"
   ]
  },
  {
   "cell_type": "markdown",
   "metadata": {},
   "source": [
    "## Analysis of Bayesian Theory of Mind (10 pts) <a id=\"distance-calc\"/>\n",
    "\n",
    "In the box below, highlight some of the advantages and disadvantages of Bayesian Theory of Mind. This is open ended! What makes it different from other approaches, and why does that make it better? Are there any drawbacks you can think of?"
   ]
  },
  {
   "cell_type": "markdown",
   "metadata": {
    "nbgrader": {
     "grade": true,
     "grade_id": "cell-e982caeeb74c73ac",
     "locked": false,
     "points": 0,
     "schema_version": 3,
     "solution": true,
     "task": false
    }
   },
   "source": []
  },
  {
   "cell_type": "code",
   "execution_count": null,
   "metadata": {},
   "outputs": [],
   "source": []
  }
 ],
 "metadata": {
  "celltoolbar": "Create Assignment",
  "kernelspec": {
   "display_name": "Python 3",
   "language": "python",
   "name": "python3"
  },
  "language_info": {
   "codemirror_mode": {
    "name": "ipython",
    "version": 3
   },
   "file_extension": ".py",
   "mimetype": "text/x-python",
   "name": "python",
   "nbconvert_exporter": "python",
   "pygments_lexer": "ipython3",
   "version": "3.7.0"
  }
 },
 "nbformat": 4,
 "nbformat_minor": 2
}
